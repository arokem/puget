{
 "cells": [
  {
   "cell_type": "markdown",
   "metadata": {},
   "source": [
    "import relevant packages, check working directory"
   ]
  },
  {
   "cell_type": "code",
   "execution_count": 126,
   "metadata": {
    "collapsed": false
   },
   "outputs": [
    {
     "name": "stdout",
     "output_type": "stream",
     "text": [
      "/media/joint-storage/puget/puget\r\n"
     ]
    }
   ],
   "source": [
    "import numpy as np\n",
    "import os\n",
    "import os.path as op\n",
    "import pandas as pd\n",
    "!pwd\n",
    "#import utils as pu\n",
    "#import tools\n"
   ]
  },
  {
   "cell_type": "code",
   "execution_count": 138,
   "metadata": {
    "collapsed": true
   },
   "outputs": [],
   "source": [
    "# The default data directory will be '../../data'\n",
    "# This can be redefined by the user of the function.\n",
    "    \n",
    "def get_snohomish_data():\n",
    "    ''' Reads in the Snohomish .csv file.\n",
    "\n",
    "        Parameters\n",
    "        ----------\n",
    "        none\n",
    "        ----------\n",
    "\n",
    "        Returns\n",
    "        ----------\n",
    "        dataframe with complete Snohomish data\n",
    "    '''\n",
    "    # Read the Snohomish file\n",
    "    #from puget.data import DATA_PATH\n",
    "    #SNOHOMISH_DATA = op.join(DATA_PATH, 'snohomish')\n",
    "    #data_dir = op.join('..', '..', 'data', 'snohomish')\n",
    "    # for final version\n",
    "    #DATA_PATH = op.join('..', '..', 'data')\n",
    "    #SNOHOMISH_DATA = op.join(DATA_PATH, 'snohomish')\n",
    "    DATA_PATH = op.join('data')\n",
    "    SNOHOMISH_DATA = op.join(DATA_PATH, 'snohomish')\n",
    "    filename = op.join(SNOHOMISH_DATA,'Snohomish_HMIS_Data_Export_06152015.xlsx')\n",
    "    xl = pd.ExcelFile(filename)\n",
    "    xl.sheet_names\n",
    "    df = xl.parse('Query2')\n",
    "    return df\n"
   ]
  },
  {
   "cell_type": "code",
   "execution_count": 17,
   "metadata": {
    "collapsed": false
   },
   "outputs": [],
   "source": [
    "snohomish_df=get_snohomish_data()"
   ]
  },
  {
   "cell_type": "markdown",
   "metadata": {},
   "source": [
    "use numpy's np.isnan to clean up columns. instead of passing a lambda, create a function that finds if the column is a float. use try...except to catch columns that are not floats"
   ]
  },
  {
   "cell_type": "code",
   "execution_count": 29,
   "metadata": {
    "collapsed": true
   },
   "outputs": [],
   "source": [
    "def nan_fx(x):\n",
    "    try:\n",
    "        val=np.sum(np.isnan(x))\n",
    "    except TypeError:\n",
    "        val = 0\n",
    "    return val"
   ]
  },
  {
   "cell_type": "code",
   "execution_count": 23,
   "metadata": {
    "collapsed": true
   },
   "outputs": [],
   "source": [
    "f = lambda x: x + 1"
   ]
  },
  {
   "cell_type": "code",
   "execution_count": 25,
   "metadata": {
    "collapsed": false
   },
   "outputs": [
    {
     "data": {
      "text/plain": [
       "2"
      ]
     },
     "execution_count": 25,
     "metadata": {},
     "output_type": "execute_result"
    }
   ],
   "source": [
    "f(1)"
   ]
  },
  {
   "cell_type": "markdown",
   "metadata": {},
   "source": [
    "look at the general shape of data"
   ]
  },
  {
   "cell_type": "code",
   "execution_count": 141,
   "metadata": {
    "collapsed": false
   },
   "outputs": [
    {
     "data": {
      "text/plain": [
       "(31008, 110)"
      ]
     },
     "execution_count": 141,
     "metadata": {},
     "output_type": "execute_result"
    }
   ],
   "source": [
    "snohomish_df.shape\n",
    "#snohomish_df.describe()"
   ]
  },
  {
   "cell_type": "markdown",
   "metadata": {},
   "source": [
    "create counts of non missing observations in each column"
   ]
  },
  {
   "cell_type": "code",
   "execution_count": 71,
   "metadata": {
    "collapsed": false
   },
   "outputs": [],
   "source": [
    "#row location 0 is the count of each column\n",
    "column_counts=snohomish_df.describe().iloc[0]\n",
    "#column_counts"
   ]
  },
  {
   "cell_type": "markdown",
   "metadata": {},
   "source": [
    "only select columns where at least 150 observations have responses  \n",
    "must keep 'DestinationAtExit' column despite missingness"
   ]
  },
  {
   "cell_type": "code",
   "execution_count": 221,
   "metadata": {
    "collapsed": false
   },
   "outputs": [],
   "source": [
    "#snohomish_df['DestinationAtExit'].describe()\n",
    "destination=snohomish_df.filter(['DestinationAtExit', 'EnrollID'])\n",
    "#destination.head()\n",
    "good_counts=np.where(column_counts>150)"
   ]
  },
  {
   "cell_type": "markdown",
   "metadata": {},
   "source": [
    "create a new data frame that is only the columns with > 150 observations"
   ]
  },
  {
   "cell_type": "code",
   "execution_count": 44,
   "metadata": {
    "collapsed": false
   },
   "outputs": [],
   "source": [
    "snohomish_newdf = snohomish_df[snohomish_df.columns[good_counts]]\n",
    "snohomish_newdf.shape"
   ]
  },
  {
   "cell_type": "markdown",
   "metadata": {},
   "source": [
    "create a list of columns that have float responses to further subset the new data frame"
   ]
  },
  {
   "cell_type": "code",
   "execution_count": 100,
   "metadata": {
    "collapsed": false
   },
   "outputs": [],
   "source": [
    "float_index=snohomish_newdf.dtypes =='float64'\n",
    "float_columns=snohomish_newdf.columns[float_index]\n",
    "snohomish_float=snohomish_newdf[float_columns]\n",
    "snohomish_float.shape"
   ]
  },
  {
   "cell_type": "markdown",
   "metadata": {},
   "source": [
    "apply nan_fx to count all non-missing row counts in the snohomish float data frame"
   ]
  },
  {
   "cell_type": "code",
   "execution_count": 157,
   "metadata": {
    "collapsed": false
   },
   "outputs": [
    {
     "data": {
      "text/plain": [
       "(31008, 13)"
      ]
     },
     "execution_count": 157,
     "metadata": {},
     "output_type": "execute_result"
    }
   ],
   "source": [
    "#mc = missing counts\n",
    "mc=snohomish_float.apply(nan_fx,axis=0)\n",
    "#mc\n",
    "final_columns = np.where(mc<snohomish_float.shape[0]*.05)\n",
    "final_columns\n",
    "snohomish_final=snohomish_float[snohomish_float.columns[final_columns]]\n",
    "snohomish_final.shape"
   ]
  },
  {
   "cell_type": "code",
   "execution_count": 291,
   "metadata": {
    "collapsed": false
   },
   "outputs": [
    {
     "data": {
      "text/html": [
       "<div>\n",
       "<table border=\"1\" class=\"dataframe\">\n",
       "  <thead>\n",
       "    <tr style=\"text-align: right;\">\n",
       "      <th></th>\n",
       "      <th>DestinationAtExit</th>\n",
       "      <th>EnrollID</th>\n",
       "    </tr>\n",
       "  </thead>\n",
       "  <tbody>\n",
       "    <tr>\n",
       "      <th>0</th>\n",
       "      <td>Staying or living with friends, temporary tenu...</td>\n",
       "      <td>3468</td>\n",
       "    </tr>\n",
       "    <tr>\n",
       "      <th>1</th>\n",
       "      <td>Rental by client, VASH Subsidy</td>\n",
       "      <td>24464</td>\n",
       "    </tr>\n",
       "    <tr>\n",
       "      <th>2</th>\n",
       "      <td>Rental by client, other (non-VASH) ongoing hou...</td>\n",
       "      <td>687</td>\n",
       "    </tr>\n",
       "    <tr>\n",
       "      <th>3</th>\n",
       "      <td>Rental by client, no ongoing housing subsidy</td>\n",
       "      <td>33974</td>\n",
       "    </tr>\n",
       "    <tr>\n",
       "      <th>4</th>\n",
       "      <td>Rental by client, other (non-VASH) ongoing hou...</td>\n",
       "      <td>690</td>\n",
       "    </tr>\n",
       "  </tbody>\n",
       "</table>\n",
       "</div>"
      ],
      "text/plain": [
       "                                   DestinationAtExit  EnrollID\n",
       "0  Staying or living with friends, temporary tenu...      3468\n",
       "1                     Rental by client, VASH Subsidy     24464\n",
       "2  Rental by client, other (non-VASH) ongoing hou...       687\n",
       "3       Rental by client, no ongoing housing subsidy     33974\n",
       "4  Rental by client, other (non-VASH) ongoing hou...       690"
      ]
     },
     "execution_count": 291,
     "metadata": {},
     "output_type": "execute_result"
    }
   ],
   "source": [
    "destination.head()"
   ]
  },
  {
   "cell_type": "code",
   "execution_count": 307,
   "metadata": {
    "collapsed": false
   },
   "outputs": [
    {
     "data": {
      "text/html": [
       "<div>\n",
       "<table border=\"1\" class=\"dataframe\">\n",
       "  <thead>\n",
       "    <tr style=\"text-align: right;\">\n",
       "      <th></th>\n",
       "      <th>ClientID</th>\n",
       "      <th>EnrollID_l</th>\n",
       "      <th>FamilyID</th>\n",
       "      <th>NumberFamilyMembers</th>\n",
       "      <th>BirthDateQuality</th>\n",
       "      <th>Race_AmIndian</th>\n",
       "      <th>Race_Asian</th>\n",
       "      <th>Race_Black</th>\n",
       "      <th>Race_Hawaiian_PI</th>\n",
       "      <th>Race_White</th>\n",
       "      <th>CaseID</th>\n",
       "      <th>ChildrenInCase</th>\n",
       "      <th>AdultsInCase</th>\n",
       "      <th>DestinationAtExit</th>\n",
       "      <th>EnrollID_r</th>\n",
       "    </tr>\n",
       "  </thead>\n",
       "  <tbody>\n",
       "    <tr>\n",
       "      <th>0</th>\n",
       "      <td>708</td>\n",
       "      <td>3468</td>\n",
       "      <td>487</td>\n",
       "      <td>1</td>\n",
       "      <td>NaN</td>\n",
       "      <td>0</td>\n",
       "      <td>0</td>\n",
       "      <td>0</td>\n",
       "      <td>0</td>\n",
       "      <td>1</td>\n",
       "      <td>2437</td>\n",
       "      <td>0</td>\n",
       "      <td>1</td>\n",
       "      <td>Staying or living with friends, temporary tenu...</td>\n",
       "      <td>3468</td>\n",
       "    </tr>\n",
       "    <tr>\n",
       "      <th>1</th>\n",
       "      <td>716</td>\n",
       "      <td>24464</td>\n",
       "      <td>495</td>\n",
       "      <td>1</td>\n",
       "      <td>1</td>\n",
       "      <td>0</td>\n",
       "      <td>0</td>\n",
       "      <td>0</td>\n",
       "      <td>0</td>\n",
       "      <td>1</td>\n",
       "      <td>15968</td>\n",
       "      <td>0</td>\n",
       "      <td>1</td>\n",
       "      <td>Rental by client, VASH Subsidy</td>\n",
       "      <td>24464</td>\n",
       "    </tr>\n",
       "    <tr>\n",
       "      <th>2</th>\n",
       "      <td>717</td>\n",
       "      <td>687</td>\n",
       "      <td>496</td>\n",
       "      <td>2</td>\n",
       "      <td>1</td>\n",
       "      <td>0</td>\n",
       "      <td>0</td>\n",
       "      <td>0</td>\n",
       "      <td>0</td>\n",
       "      <td>1</td>\n",
       "      <td>469</td>\n",
       "      <td>0</td>\n",
       "      <td>1</td>\n",
       "      <td>Rental by client, other (non-VASH) ongoing hou...</td>\n",
       "      <td>687</td>\n",
       "    </tr>\n",
       "    <tr>\n",
       "      <th>3</th>\n",
       "      <td>717</td>\n",
       "      <td>33974</td>\n",
       "      <td>496</td>\n",
       "      <td>2</td>\n",
       "      <td>1</td>\n",
       "      <td>0</td>\n",
       "      <td>0</td>\n",
       "      <td>0</td>\n",
       "      <td>0</td>\n",
       "      <td>1</td>\n",
       "      <td>23247</td>\n",
       "      <td>0</td>\n",
       "      <td>2</td>\n",
       "      <td>Rental by client, no ongoing housing subsidy</td>\n",
       "      <td>33974</td>\n",
       "    </tr>\n",
       "    <tr>\n",
       "      <th>4</th>\n",
       "      <td>718</td>\n",
       "      <td>690</td>\n",
       "      <td>497</td>\n",
       "      <td>1</td>\n",
       "      <td>1</td>\n",
       "      <td>0</td>\n",
       "      <td>0</td>\n",
       "      <td>0</td>\n",
       "      <td>0</td>\n",
       "      <td>1</td>\n",
       "      <td>472</td>\n",
       "      <td>0</td>\n",
       "      <td>1</td>\n",
       "      <td>Rental by client, other (non-VASH) ongoing hou...</td>\n",
       "      <td>690</td>\n",
       "    </tr>\n",
       "  </tbody>\n",
       "</table>\n",
       "</div>"
      ],
      "text/plain": [
       "   ClientID  EnrollID_l  FamilyID  NumberFamilyMembers  BirthDateQuality  \\\n",
       "0       708        3468       487                    1               NaN   \n",
       "1       716       24464       495                    1                 1   \n",
       "2       717         687       496                    2                 1   \n",
       "3       717       33974       496                    2                 1   \n",
       "4       718         690       497                    1                 1   \n",
       "\n",
       "   Race_AmIndian  Race_Asian  Race_Black  Race_Hawaiian_PI  Race_White  \\\n",
       "0              0           0           0                 0           1   \n",
       "1              0           0           0                 0           1   \n",
       "2              0           0           0                 0           1   \n",
       "3              0           0           0                 0           1   \n",
       "4              0           0           0                 0           1   \n",
       "\n",
       "   CaseID  ChildrenInCase  AdultsInCase  \\\n",
       "0    2437               0             1   \n",
       "1   15968               0             1   \n",
       "2     469               0             1   \n",
       "3   23247               0             2   \n",
       "4     472               0             1   \n",
       "\n",
       "                                   DestinationAtExit  EnrollID_r  \n",
       "0  Staying or living with friends, temporary tenu...        3468  \n",
       "1                     Rental by client, VASH Subsidy       24464  \n",
       "2  Rental by client, other (non-VASH) ongoing hou...         687  \n",
       "3       Rental by client, no ongoing housing subsidy       33974  \n",
       "4  Rental by client, other (non-VASH) ongoing hou...         690  "
      ]
     },
     "execution_count": 307,
     "metadata": {},
     "output_type": "execute_result"
    }
   ],
   "source": [
    "snohomish_merge = snohomish_final.join(destination, how= 'outer', lsuffix='_l', rsuffix='_r')\n",
    "snohomish_merge.head()\n",
    "#snohomish_merge.shape\n",
    "#len(np.unique(snohomish_merge['EnrollID_l']))"
   ]
  },
  {
   "cell_type": "code",
   "execution_count": 281,
   "metadata": {
    "collapsed": false
   },
   "outputs": [
    {
     "data": {
      "text/plain": [
       "count          27012\n",
       "unique            27\n",
       "top       Don't Know\n",
       "freq            8173\n",
       "Name: DestinationAtExit, dtype: object"
      ]
     },
     "execution_count": 281,
     "metadata": {},
     "output_type": "execute_result"
    }
   ],
   "source": [
    "snohomish_df['DestinationAtExit'].describe()\n",
    "#snohomish_final.describe()\n",
    "#len(np.unique(snohomish_final['EnrollID']))"
   ]
  },
  {
   "cell_type": "markdown",
   "metadata": {},
   "source": [
    "tweak exit function to take strings of exits/successes "
   ]
  },
  {
   "cell_type": "code",
   "execution_count": 311,
   "metadata": {
    "collapsed": false
   },
   "outputs": [
    {
     "data": {
      "text/plain": [
       "0       NaN\n",
       "1       NaN\n",
       "2       NaN\n",
       "3        10\n",
       "4       NaN\n",
       "5       NaN\n",
       "6       NaN\n",
       "7       NaN\n",
       "8       NaN\n",
       "9       NaN\n",
       "10      NaN\n",
       "11        3\n",
       "12        3\n",
       "13        3\n",
       "14        3\n",
       "15      NaN\n",
       "16      NaN\n",
       "17      NaN\n",
       "18      NaN\n",
       "19      NaN\n",
       "20      NaN\n",
       "21      NaN\n",
       "22      NaN\n",
       "23       10\n",
       "24      NaN\n",
       "25      NaN\n",
       "26       23\n",
       "27      NaN\n",
       "28      NaN\n",
       "29        3\n",
       "         ..\n",
       "30978   NaN\n",
       "30979   NaN\n",
       "30980   NaN\n",
       "30981   NaN\n",
       "30982   NaN\n",
       "30983   NaN\n",
       "30984   NaN\n",
       "30985   NaN\n",
       "30986   NaN\n",
       "30987   NaN\n",
       "30988   NaN\n",
       "30989   NaN\n",
       "30990   NaN\n",
       "30991   NaN\n",
       "30992   NaN\n",
       "30993   NaN\n",
       "30994   NaN\n",
       "30995   NaN\n",
       "30996   NaN\n",
       "30997   NaN\n",
       "30998   NaN\n",
       "30999   NaN\n",
       "31000   NaN\n",
       "31001   NaN\n",
       "31002   NaN\n",
       "31003   NaN\n",
       "31004   NaN\n",
       "31005   NaN\n",
       "31006   NaN\n",
       "31007   NaN\n",
       "Name: DestinationAtExit, dtype: float64"
      ]
     },
     "execution_count": 311,
     "metadata": {},
     "output_type": "execute_result"
    }
   ],
   "source": [
    "destination_map(snohomish_merge['DestinationAtExit'])"
   ]
  },
  {
   "cell_type": "code",
   "execution_count": 359,
   "metadata": {
    "collapsed": false
   },
   "outputs": [
    {
     "data": {
      "text/html": [
       "<div>\n",
       "<table border=\"1\" class=\"dataframe\">\n",
       "  <thead>\n",
       "    <tr style=\"text-align: right;\">\n",
       "      <th></th>\n",
       "      <th>ClientID</th>\n",
       "      <th>EnrollID_l</th>\n",
       "      <th>FamilyID</th>\n",
       "      <th>NumberFamilyMembers</th>\n",
       "      <th>BirthDateQuality</th>\n",
       "      <th>Race_AmIndian</th>\n",
       "      <th>Race_Asian</th>\n",
       "      <th>Race_Black</th>\n",
       "      <th>Race_Hawaiian_PI</th>\n",
       "      <th>Race_White</th>\n",
       "      <th>CaseID</th>\n",
       "      <th>ChildrenInCase</th>\n",
       "      <th>AdultsInCase</th>\n",
       "      <th>DestinationAtExit</th>\n",
       "      <th>EnrollID_r</th>\n",
       "      <th>DestinationNumeric</th>\n",
       "      <th>DestinationGroup</th>\n",
       "      <th>DestinationSuccess</th>\n",
       "      <th>Subsidy</th>\n",
       "    </tr>\n",
       "  </thead>\n",
       "  <tbody>\n",
       "    <tr>\n",
       "      <th>0</th>\n",
       "      <td>708</td>\n",
       "      <td>3468</td>\n",
       "      <td>487</td>\n",
       "      <td>1</td>\n",
       "      <td>NaN</td>\n",
       "      <td>0</td>\n",
       "      <td>0</td>\n",
       "      <td>0</td>\n",
       "      <td>0</td>\n",
       "      <td>1</td>\n",
       "      <td>2437</td>\n",
       "      <td>0</td>\n",
       "      <td>1</td>\n",
       "      <td>Staying or living with friends, temporary tenu...</td>\n",
       "      <td>3468</td>\n",
       "      <td>13</td>\n",
       "      <td>Temporary</td>\n",
       "      <td>Other Exit</td>\n",
       "      <td>False</td>\n",
       "    </tr>\n",
       "    <tr>\n",
       "      <th>1</th>\n",
       "      <td>716</td>\n",
       "      <td>24464</td>\n",
       "      <td>495</td>\n",
       "      <td>1</td>\n",
       "      <td>1</td>\n",
       "      <td>0</td>\n",
       "      <td>0</td>\n",
       "      <td>0</td>\n",
       "      <td>0</td>\n",
       "      <td>1</td>\n",
       "      <td>15968</td>\n",
       "      <td>0</td>\n",
       "      <td>1</td>\n",
       "      <td>Rental by client, VASH Subsidy</td>\n",
       "      <td>24464</td>\n",
       "      <td>NaN</td>\n",
       "      <td>NaN</td>\n",
       "      <td>NaN</td>\n",
       "      <td>NaN</td>\n",
       "    </tr>\n",
       "    <tr>\n",
       "      <th>2</th>\n",
       "      <td>717</td>\n",
       "      <td>687</td>\n",
       "      <td>496</td>\n",
       "      <td>2</td>\n",
       "      <td>1</td>\n",
       "      <td>0</td>\n",
       "      <td>0</td>\n",
       "      <td>0</td>\n",
       "      <td>0</td>\n",
       "      <td>1</td>\n",
       "      <td>469</td>\n",
       "      <td>0</td>\n",
       "      <td>1</td>\n",
       "      <td>Rental by client, other (non-VASH) ongoing hou...</td>\n",
       "      <td>687</td>\n",
       "      <td>NaN</td>\n",
       "      <td>NaN</td>\n",
       "      <td>NaN</td>\n",
       "      <td>NaN</td>\n",
       "    </tr>\n",
       "    <tr>\n",
       "      <th>3</th>\n",
       "      <td>717</td>\n",
       "      <td>33974</td>\n",
       "      <td>496</td>\n",
       "      <td>2</td>\n",
       "      <td>1</td>\n",
       "      <td>0</td>\n",
       "      <td>0</td>\n",
       "      <td>0</td>\n",
       "      <td>0</td>\n",
       "      <td>1</td>\n",
       "      <td>23247</td>\n",
       "      <td>0</td>\n",
       "      <td>2</td>\n",
       "      <td>Rental by client, no ongoing housing subsidy</td>\n",
       "      <td>33974</td>\n",
       "      <td>10</td>\n",
       "      <td>Permanent</td>\n",
       "      <td>Successful Exit</td>\n",
       "      <td>False</td>\n",
       "    </tr>\n",
       "    <tr>\n",
       "      <th>4</th>\n",
       "      <td>718</td>\n",
       "      <td>690</td>\n",
       "      <td>497</td>\n",
       "      <td>1</td>\n",
       "      <td>1</td>\n",
       "      <td>0</td>\n",
       "      <td>0</td>\n",
       "      <td>0</td>\n",
       "      <td>0</td>\n",
       "      <td>1</td>\n",
       "      <td>472</td>\n",
       "      <td>0</td>\n",
       "      <td>1</td>\n",
       "      <td>Rental by client, other (non-VASH) ongoing hou...</td>\n",
       "      <td>690</td>\n",
       "      <td>NaN</td>\n",
       "      <td>NaN</td>\n",
       "      <td>NaN</td>\n",
       "      <td>NaN</td>\n",
       "    </tr>\n",
       "  </tbody>\n",
       "</table>\n",
       "</div>"
      ],
      "text/plain": [
       "   ClientID  EnrollID_l  FamilyID  NumberFamilyMembers  BirthDateQuality  \\\n",
       "0       708        3468       487                    1               NaN   \n",
       "1       716       24464       495                    1                 1   \n",
       "2       717         687       496                    2                 1   \n",
       "3       717       33974       496                    2                 1   \n",
       "4       718         690       497                    1                 1   \n",
       "\n",
       "   Race_AmIndian  Race_Asian  Race_Black  Race_Hawaiian_PI  Race_White  \\\n",
       "0              0           0           0                 0           1   \n",
       "1              0           0           0                 0           1   \n",
       "2              0           0           0                 0           1   \n",
       "3              0           0           0                 0           1   \n",
       "4              0           0           0                 0           1   \n",
       "\n",
       "   CaseID  ChildrenInCase  AdultsInCase  \\\n",
       "0    2437               0             1   \n",
       "1   15968               0             1   \n",
       "2     469               0             1   \n",
       "3   23247               0             2   \n",
       "4     472               0             1   \n",
       "\n",
       "                                   DestinationAtExit  EnrollID_r  \\\n",
       "0  Staying or living with friends, temporary tenu...        3468   \n",
       "1                     Rental by client, VASH Subsidy       24464   \n",
       "2  Rental by client, other (non-VASH) ongoing hou...         687   \n",
       "3       Rental by client, no ongoing housing subsidy       33974   \n",
       "4  Rental by client, other (non-VASH) ongoing hou...         690   \n",
       "\n",
       "   DestinationNumeric DestinationGroup DestinationSuccess Subsidy  \n",
       "0                  13        Temporary         Other Exit   False  \n",
       "1                 NaN              NaN                NaN     NaN  \n",
       "2                 NaN              NaN                NaN     NaN  \n",
       "3                  10        Permanent    Successful Exit   False  \n",
       "4                 NaN              NaN                NaN     NaN  "
      ]
     },
     "execution_count": 359,
     "metadata": {},
     "output_type": "execute_result"
    }
   ],
   "source": [
    "data_path = os.getcwd()\n",
    "map_table = 'destination_mappings.csv'\n",
    "#df=pd.DataFrame(np.nan, index = np.arange(1,data.shape[0],1), columns = ['enrollID','string','success', 'subsidy'])\n",
    "mapping_table = pd.read_csv(op.join(data_path,'data','metadata', map_table))\n",
    "mapping_table = mapping_table[mapping_table.Standard == \"New Standards\"]\n",
    "# Recode Subsidy column to boolean\n",
    "mapping_table['Subsidy'] = mapping_table['Subsidy'].map({'Yes': True,\n",
    "                                                         'No': False})\n",
    "# Drop columns we don't need\n",
    "mapping_table = mapping_table.drop(['Standard'], axis=1)\n",
    "#mapping_table.head()\n",
    "output_df = pd.merge(left=snohomish_merge, right=mapping_table, how='left',\n",
    "                         left_on='DestinationAtExit',\n",
    "                         right_on='DestinationDescription')\n",
    "output_df = output_df.drop('DestinationDescription', axis=1)\n",
    "\n",
    "output_df.head()\n"
   ]
  },
  {
   "cell_type": "code",
   "execution_count": 360,
   "metadata": {
    "collapsed": false
   },
   "outputs": [],
   "source": [
    "def destination_map(data, map_table = 'destination_mappings.csv'):\n",
    "        data_path = os.getcwd()\n",
    "        mapping_table = pd.read_csv(op.join(data_path,'data','metadata', map_table))\n",
    "        mapping_table = mapping_table[mapping_table.Standard == \"New Standards\"]\n",
    "        # Recode Subsidy column to boolean\n",
    "        mapping_table['Subsidy'] = mapping_table['Subsidy'].map({'Yes': True,\n",
    "                                                                 'No': False})\n",
    "        # Drop columns we don't need\n",
    "        mapping_table = mapping_table.drop(['Standard'], axis=1)\n",
    "\n",
    "        # Merge the Destination mapping with the df\n",
    "        # based on the last_destination string\n",
    "        output_df = pd.merge(left=data, right=mapping_table, how='left',\n",
    "                         left_on='DestinationAtExit',\n",
    "                         right_on='DestinationDescription')\n",
    "\n",
    "        output_df = output_df.drop('DestinationDescription', axis=1)\n",
    "\n",
    "        return output_df"
   ]
  },
  {
   "cell_type": "code",
   "execution_count": 338,
   "metadata": {
    "collapsed": false
   },
   "outputs": [
    {
     "name": "stdout",
     "output_type": "stream",
     "text": [
      "/media/joint-storage/puget/puget\r\n"
     ]
    }
   ],
   "source": [
    "!pwd"
   ]
  },
  {
   "cell_type": "code",
   "execution_count": 310,
   "metadata": {
    "collapsed": true
   },
   "outputs": [],
   "source": [
    " def destination_map(column):\n",
    "        df=pd.DataFrame(np.nan, index = np.arange(1,snohomish_merge.shape[0],1), columns = ['string','success', 'subsidy'])\n",
    "        df['string']=column\n",
    "        new_column = column.map(\n",
    "        {'Emergency shelter, including hotel or motel paid for with emergency shelter voucher':1,\n",
    "         'Transitional housing for homeless persons (including homeless youth)':2,\n",
    "         'Permanent housing for formerly homeless persons (such as: CoC project; or HUD legacy programs; or HOPWA PH)':3,\n",
    "         'Psychiatric hospital or other psychiatric facility':4,\n",
    "         'Substance abuse treatment facility or detox center':5,\n",
    "         'Hospital or other residential non-psychiatric medical facility':6,\n",
    "         'Jail, prison or juvenile detention facility':7,\n",
    "         'Rental by client, no ongoing housing subsidy':10,\n",
    "         'Owned by client, no ongoing housing subsidy':11,\n",
    "         'Staying or living with family, temporary tenure (e.g. room, apartment or house)':12,\n",
    "         'Staying or living with friends, temporary tenure (e.g. room apartment or house)':13,\n",
    "         'Hotel or motel paid for without emergency shelter voucher':15,\n",
    "         'Foster care home or foster care group home':15,\n",
    "         'Place not meant for habitation (e.g., a vehicle, an abandoned building, bus/train/subway station/airport or anywhere outside)':16,\n",
    "         'Other':17,\n",
    "         'Safe Haven':18,\n",
    "         'Rental by client, with VASH housing subsidy':19,\n",
    "         'Rental by client, with other ongoing housing subsidy':20,\n",
    "         'Owned by client, with ongoing housing subsidy':21,\n",
    "         'Staying or living with family, permanent tenure':22,\n",
    "         'Staying or living with friends, permanent tenure':23,\n",
    "         'Deceased':24,\n",
    "         'Long-term care facility or nursing home':25,\n",
    "         'Moved from one HOPWA funded project to HOPWA PH':26,\n",
    "         'Moved from one HOPWA funded project to HOPWA TH':27,\n",
    "         'Rental by client, with GPD TIP housing subsidy':28,\n",
    "         'Residential project or halfway house with no homeless criteria':29,\n",
    "         'No exit interview completed':30})\n",
    "        return new_column\n",
    "    # string description, success column, subsidy column\n",
    "        "
   ]
  },
  {
   "cell_type": "code",
   "execution_count": 15,
   "metadata": {
    "collapsed": true
   },
   "outputs": [],
   "source": [
    "def get_snohomish_families():\n",
    "    ''' Reads in the Snohomish data, and keeps only rows that are families\n",
    "\n",
    "   Parameters\n",
    "    ----------\n",
    "    file_dict : dict or string\n",
    "        if a dict, keys should be years, values should be full path to files\n",
    "        if a string, should be the filename of the .csv table and data_dir,\n",
    "            paths and years parameters are required\n",
    "    data_dir : string\n",
    "        full path to general data folder (usually puget/data);\n",
    "            not required if file_dict is a dictionary\n",
    "    paths : list\n",
    "        list of directories inside data_dir to look for csv files in;\n",
    "            not required if file_dict is a dictionary\n",
    "    years : list\n",
    "        list of years to include, default is to include all years;\n",
    "            not required if file_dict is a dictionary\n",
    "    metadata_file : string\n",
    "        name of json metadata file with lists of columns to use for\n",
    "        deduplication, columns to drop, categorical and time-like columns\n",
    "    df_destination_colname : string\n",
    "        column containing the numeric destination codes\n",
    "    Returns\n",
    "    ----------\n",
    "    dataframe with only clients that come from a household with multiple people (a family)\n",
    "    '''\n",
    "    df = get_snohomish_data()\n",
    "\n",
    "    gb = df.groupby('FamilyID')\n",
    "    more_than_one = lambda x:(len(np.unique(x['ClientID'])) > 1)\n",
    "    families = gb.filter(more_than_one).copy()\n",
    "    #returns dataframe with families with more than one person (may be a family of all children or all adults)\n",
    "\n",
    "    #Remove data entry errors:\n",
    "    for famid, fam in families.groupby('FamilyID'):\n",
    "        for caseid, case in fam.groupby('CaseID'):\n",
    "            if not caseid == fam.iloc[0]['CaseID'] :  #if not the same caseID as was identified in the fam table\n",
    "                if case['ClientID'].nunique() == 1 : # case['EnrollDate'].iloc[0] == prv_case_EnrollDate) :\n",
    "                #if this condition is true, this case is an error\n",
    "                    families = families[families.CaseID != caseid]\n",
    "                else:\n",
    "                    pass\n",
    "\n",
    "            else: #if it is the same caseID as was identified in the fam table\n",
    "                pass\n",
    "\n",
    "\n",
    "    families = recode_snohomish_data(families)\n",
    "\n",
    "    return families\n",
    "\n",
    "\n"
   ]
  }
 ],
 "metadata": {
  "kernelspec": {
   "display_name": "Python 2",
   "language": "python",
   "name": "python2"
  },
  "language_info": {
   "codemirror_mode": {
    "name": "ipython",
    "version": 2
   },
   "file_extension": ".py",
   "mimetype": "text/x-python",
   "name": "python",
   "nbconvert_exporter": "python",
   "pygments_lexer": "ipython2",
   "version": "2.7.6"
  }
 },
 "nbformat": 4,
 "nbformat_minor": 0
}
